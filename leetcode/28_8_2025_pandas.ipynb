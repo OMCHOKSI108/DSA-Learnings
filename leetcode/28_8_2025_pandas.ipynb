{
 "cells": [
  {
   "cell_type": "code",
   "execution_count": 83,
   "id": "347f4812",
   "metadata": {},
   "outputs": [],
   "source": [
    "import pandas as pd "
   ]
  },
  {
   "cell_type": "code",
   "execution_count": 84,
   "id": "80fe851f",
   "metadata": {},
   "outputs": [],
   "source": [
    "# create DailySales DataFrame matching the image\n",
    "sales = {\n",
    "    'date_id': [\n",
    "        '2020-12-08','2020-12-08','2020-12-08',\n",
    "        '2020-12-07','2020-12-07',\n",
    "        '2020-12-08','2020-12-08',\n",
    "        '2020-12-07','2020-12-07','2020-12-07'\n",
    "    ],\n",
    "    'make_name': [\n",
    "        'toyota','toyota','toyota',\n",
    "        'toyota','toyota',\n",
    "        'honda','honda',\n",
    "        'honda','honda','honda'\n",
    "    ],\n",
    "    'lead_id': [0,1,1,0,0,1,2,0,1,2],\n",
    "    'partner_id': [1,0,2,2,1,2,1,1,2,1]\n",
    "}\n",
    "\n"
   ]
  },
  {
   "cell_type": "code",
   "execution_count": 85,
   "id": "f59edb48",
   "metadata": {},
   "outputs": [],
   "source": [
    "df = pd.DataFrame(sales)"
   ]
  },
  {
   "cell_type": "code",
   "execution_count": 86,
   "id": "bcd6ed5b",
   "metadata": {},
   "outputs": [
    {
     "data": {
      "text/html": [
       "<div>\n",
       "<style scoped>\n",
       "    .dataframe tbody tr th:only-of-type {\n",
       "        vertical-align: middle;\n",
       "    }\n",
       "\n",
       "    .dataframe tbody tr th {\n",
       "        vertical-align: top;\n",
       "    }\n",
       "\n",
       "    .dataframe thead th {\n",
       "        text-align: right;\n",
       "    }\n",
       "</style>\n",
       "<table border=\"1\" class=\"dataframe\">\n",
       "  <thead>\n",
       "    <tr style=\"text-align: right;\">\n",
       "      <th></th>\n",
       "      <th>date_id</th>\n",
       "      <th>make_name</th>\n",
       "      <th>lead_id</th>\n",
       "      <th>partner_id</th>\n",
       "    </tr>\n",
       "  </thead>\n",
       "  <tbody>\n",
       "    <tr>\n",
       "      <th>0</th>\n",
       "      <td>2020-12-08</td>\n",
       "      <td>toyota</td>\n",
       "      <td>0</td>\n",
       "      <td>1</td>\n",
       "    </tr>\n",
       "    <tr>\n",
       "      <th>1</th>\n",
       "      <td>2020-12-08</td>\n",
       "      <td>toyota</td>\n",
       "      <td>1</td>\n",
       "      <td>0</td>\n",
       "    </tr>\n",
       "    <tr>\n",
       "      <th>2</th>\n",
       "      <td>2020-12-08</td>\n",
       "      <td>toyota</td>\n",
       "      <td>1</td>\n",
       "      <td>2</td>\n",
       "    </tr>\n",
       "    <tr>\n",
       "      <th>3</th>\n",
       "      <td>2020-12-07</td>\n",
       "      <td>toyota</td>\n",
       "      <td>0</td>\n",
       "      <td>2</td>\n",
       "    </tr>\n",
       "    <tr>\n",
       "      <th>4</th>\n",
       "      <td>2020-12-07</td>\n",
       "      <td>toyota</td>\n",
       "      <td>0</td>\n",
       "      <td>1</td>\n",
       "    </tr>\n",
       "    <tr>\n",
       "      <th>5</th>\n",
       "      <td>2020-12-08</td>\n",
       "      <td>honda</td>\n",
       "      <td>1</td>\n",
       "      <td>2</td>\n",
       "    </tr>\n",
       "    <tr>\n",
       "      <th>6</th>\n",
       "      <td>2020-12-08</td>\n",
       "      <td>honda</td>\n",
       "      <td>2</td>\n",
       "      <td>1</td>\n",
       "    </tr>\n",
       "    <tr>\n",
       "      <th>7</th>\n",
       "      <td>2020-12-07</td>\n",
       "      <td>honda</td>\n",
       "      <td>0</td>\n",
       "      <td>1</td>\n",
       "    </tr>\n",
       "    <tr>\n",
       "      <th>8</th>\n",
       "      <td>2020-12-07</td>\n",
       "      <td>honda</td>\n",
       "      <td>1</td>\n",
       "      <td>2</td>\n",
       "    </tr>\n",
       "    <tr>\n",
       "      <th>9</th>\n",
       "      <td>2020-12-07</td>\n",
       "      <td>honda</td>\n",
       "      <td>2</td>\n",
       "      <td>1</td>\n",
       "    </tr>\n",
       "  </tbody>\n",
       "</table>\n",
       "</div>"
      ],
      "text/plain": [
       "      date_id make_name  lead_id  partner_id\n",
       "0  2020-12-08    toyota        0           1\n",
       "1  2020-12-08    toyota        1           0\n",
       "2  2020-12-08    toyota        1           2\n",
       "3  2020-12-07    toyota        0           2\n",
       "4  2020-12-07    toyota        0           1\n",
       "5  2020-12-08     honda        1           2\n",
       "6  2020-12-08     honda        2           1\n",
       "7  2020-12-07     honda        0           1\n",
       "8  2020-12-07     honda        1           2\n",
       "9  2020-12-07     honda        2           1"
      ]
     },
     "execution_count": 86,
     "metadata": {},
     "output_type": "execute_result"
    }
   ],
   "source": [
    "df"
   ]
  },
  {
   "cell_type": "code",
   "execution_count": 87,
   "id": "89f2272c",
   "metadata": {},
   "outputs": [],
   "source": [
    "df = df.groupby(\n",
    "        by=['date_id','make_name'], \n",
    "        as_index=False\n",
    "        ).agg(\n",
    "            unique_leads=(\"lead_id\",\"nunique\"),\n",
    "            unique_partners=(\"partner_id\",\"nunique\")\n",
    "        )"
   ]
  },
  {
   "cell_type": "code",
   "execution_count": 88,
   "id": "f81c6824",
   "metadata": {},
   "outputs": [
    {
     "name": "stdout",
     "output_type": "stream",
     "text": [
      "      date_id make_name  unique_leads  unique_partners\n",
      "0  2020-12-07     honda             3                2\n",
      "1  2020-12-07    toyota             1                2\n",
      "2  2020-12-08     honda             2                2\n",
      "3  2020-12-08    toyota             2                3\n"
     ]
    }
   ],
   "source": [
    "print(df)  "
   ]
  },
  {
   "cell_type": "code",
   "execution_count": 90,
   "id": "858680c0",
   "metadata": {},
   "outputs": [
    {
     "data": {
      "text/plain": [
       "Index(['date_id', 'make_name', 'unique_leads', 'unique_partners'], dtype='object')"
      ]
     },
     "execution_count": 90,
     "metadata": {},
     "output_type": "execute_result"
    }
   ],
   "source": [
    "df.columns"
   ]
  },
  {
   "cell_type": "markdown",
   "id": "2fd81fe3",
   "metadata": {},
   "source": [
    "The code creates a pandas DataFrame from a dictionary of sales data, then groups the data by `date_id` and `make_name` to calculate the number of unique leads and unique partners for each group. The result is a summary table showing these counts for each car make on each date."
   ]
  },
  {
   "cell_type": "markdown",
   "id": "adfa4e09",
   "metadata": {},
   "source": [
    "The code processes sales data using pandas to summarize unique leads and partners for each car make on each date.\n",
    "\n",
    "1. **Data Creation**  \n",
    "    The `sales` dictionary contains lists for `date_id`, `make_name`, `lead_id`, and `partner_id`.  \n",
    "    ```python\n",
    "    sales = {...}\n",
    "    ```\n",
    "\n",
    "2. **DataFrame Construction**  \n",
    "    The dictionary is converted to a pandas DataFrame:  \n",
    "    ```python\n",
    "    df = pd.DataFrame(sales)\n",
    "    ```\n",
    "\n",
    "3. **Grouping and Aggregation**  \n",
    "    The DataFrame is grouped by `date_id` and `make_name`.  \n",
    "    The `.agg()` function is used to compute:\n",
    "    - `unique_leads`: Number of unique `lead_id` values per group.\n",
    "    - `unique_partners`: Number of unique `partner_id` values per group.\n",
    "    ```python\n",
    "    df = df.groupby(\n",
    "         by=['date_id','make_name'], \n",
    "         as_index=False\n",
    "    ).agg(\n",
    "         unique_leads=(\"lead_id\",\"nunique\"),\n",
    "         unique_partners=(\"partner_id\",\"nunique\")\n",
    "    )\n",
    "    ```\n",
    "\n",
    "**About `.agg()` Function:**  \n",
    "- `.agg()` is a pandas method used after grouping data.\n",
    "- It allows you to specify one or more aggregation operations for columns.\n",
    "- Syntax:  \n",
    "  ```python\n",
    "  .agg(new_column_name=(column_to_aggregate, aggregation_function))\n",
    "  ```\n",
    "- Example:  \n",
    "  - `\"nunique\"` counts unique values.\n",
    "  - `\"sum\"` adds values.\n",
    "  - `\"mean\"` computes the average.\n",
    "\n",
    "**Result:**  \n",
    "You get a summary table showing, for each date and car make, how many unique leads and partners were recorded."
   ]
  },
  {
   "cell_type": "code",
   "execution_count": 91,
   "id": "e156c1cc",
   "metadata": {},
   "outputs": [],
   "source": [
    "#  Actors and Directors Who Cooperated At Least Three Times"
   ]
  },
  {
   "cell_type": "code",
   "execution_count": 122,
   "id": "07fe8842",
   "metadata": {},
   "outputs": [],
   "source": [
    "# add ActorDirector DataFrame\n",
    "actor_director = {\n",
    "    'actor_id':    [1, 1, 1, 1, 1, 2, 2],\n",
    "    'director_id': [1, 1, 1, 2, 2, 1, 1],\n",
    "    'timestamp':   [0, 1, 2, 3, 4, 5, 6]\n",
    "}\n",
    "df1 = pd.DataFrame(actor_director)\n"
   ]
  },
  {
   "cell_type": "code",
   "execution_count": 123,
   "id": "6151e926",
   "metadata": {},
   "outputs": [
    {
     "data": {
      "text/html": [
       "<div>\n",
       "<style scoped>\n",
       "    .dataframe tbody tr th:only-of-type {\n",
       "        vertical-align: middle;\n",
       "    }\n",
       "\n",
       "    .dataframe tbody tr th {\n",
       "        vertical-align: top;\n",
       "    }\n",
       "\n",
       "    .dataframe thead th {\n",
       "        text-align: right;\n",
       "    }\n",
       "</style>\n",
       "<table border=\"1\" class=\"dataframe\">\n",
       "  <thead>\n",
       "    <tr style=\"text-align: right;\">\n",
       "      <th></th>\n",
       "      <th>actor_id</th>\n",
       "      <th>director_id</th>\n",
       "      <th>timestamp</th>\n",
       "    </tr>\n",
       "  </thead>\n",
       "  <tbody>\n",
       "    <tr>\n",
       "      <th>0</th>\n",
       "      <td>1</td>\n",
       "      <td>1</td>\n",
       "      <td>0</td>\n",
       "    </tr>\n",
       "    <tr>\n",
       "      <th>1</th>\n",
       "      <td>1</td>\n",
       "      <td>1</td>\n",
       "      <td>1</td>\n",
       "    </tr>\n",
       "    <tr>\n",
       "      <th>2</th>\n",
       "      <td>1</td>\n",
       "      <td>1</td>\n",
       "      <td>2</td>\n",
       "    </tr>\n",
       "    <tr>\n",
       "      <th>3</th>\n",
       "      <td>1</td>\n",
       "      <td>2</td>\n",
       "      <td>3</td>\n",
       "    </tr>\n",
       "    <tr>\n",
       "      <th>4</th>\n",
       "      <td>1</td>\n",
       "      <td>2</td>\n",
       "      <td>4</td>\n",
       "    </tr>\n",
       "    <tr>\n",
       "      <th>5</th>\n",
       "      <td>2</td>\n",
       "      <td>1</td>\n",
       "      <td>5</td>\n",
       "    </tr>\n",
       "    <tr>\n",
       "      <th>6</th>\n",
       "      <td>2</td>\n",
       "      <td>1</td>\n",
       "      <td>6</td>\n",
       "    </tr>\n",
       "  </tbody>\n",
       "</table>\n",
       "</div>"
      ],
      "text/plain": [
       "   actor_id  director_id  timestamp\n",
       "0         1            1          0\n",
       "1         1            1          1\n",
       "2         1            1          2\n",
       "3         1            2          3\n",
       "4         1            2          4\n",
       "5         2            1          5\n",
       "6         2            1          6"
      ]
     },
     "execution_count": 123,
     "metadata": {},
     "output_type": "execute_result"
    }
   ],
   "source": [
    "df1"
   ]
  },
  {
   "cell_type": "code",
   "execution_count": 124,
   "id": "7d660883",
   "metadata": {},
   "outputs": [],
   "source": [
    "stats = df1.groupby(['actor_id', 'director_id']).agg(count=('director_id', 'count')).reset_index()\n"
   ]
  },
  {
   "cell_type": "code",
   "execution_count": 125,
   "id": "1cf6065f",
   "metadata": {},
   "outputs": [
    {
     "data": {
      "text/html": [
       "<div>\n",
       "<style scoped>\n",
       "    .dataframe tbody tr th:only-of-type {\n",
       "        vertical-align: middle;\n",
       "    }\n",
       "\n",
       "    .dataframe tbody tr th {\n",
       "        vertical-align: top;\n",
       "    }\n",
       "\n",
       "    .dataframe thead th {\n",
       "        text-align: right;\n",
       "    }\n",
       "</style>\n",
       "<table border=\"1\" class=\"dataframe\">\n",
       "  <thead>\n",
       "    <tr style=\"text-align: right;\">\n",
       "      <th></th>\n",
       "      <th>actor_id</th>\n",
       "      <th>director_id</th>\n",
       "      <th>count</th>\n",
       "    </tr>\n",
       "  </thead>\n",
       "  <tbody>\n",
       "    <tr>\n",
       "      <th>0</th>\n",
       "      <td>1</td>\n",
       "      <td>1</td>\n",
       "      <td>3</td>\n",
       "    </tr>\n",
       "    <tr>\n",
       "      <th>1</th>\n",
       "      <td>1</td>\n",
       "      <td>2</td>\n",
       "      <td>2</td>\n",
       "    </tr>\n",
       "    <tr>\n",
       "      <th>2</th>\n",
       "      <td>2</td>\n",
       "      <td>1</td>\n",
       "      <td>2</td>\n",
       "    </tr>\n",
       "  </tbody>\n",
       "</table>\n",
       "</div>"
      ],
      "text/plain": [
       "   actor_id  director_id  count\n",
       "0         1            1      3\n",
       "1         1            2      2\n",
       "2         2            1      2"
      ]
     },
     "execution_count": 125,
     "metadata": {},
     "output_type": "execute_result"
    }
   ],
   "source": [
    "stats"
   ]
  },
  {
   "cell_type": "code",
   "execution_count": null,
   "id": "b50444fc",
   "metadata": {},
   "outputs": [],
   "source": []
  },
  {
   "cell_type": "code",
   "execution_count": null,
   "id": "3e1cf528",
   "metadata": {},
   "outputs": [],
   "source": []
  }
 ],
 "metadata": {
  "kernelspec": {
   "display_name": "base",
   "language": "python",
   "name": "python3"
  },
  "language_info": {
   "codemirror_mode": {
    "name": "ipython",
    "version": 3
   },
   "file_extension": ".py",
   "mimetype": "text/x-python",
   "name": "python",
   "nbconvert_exporter": "python",
   "pygments_lexer": "ipython3",
   "version": "3.13.5"
  }
 },
 "nbformat": 4,
 "nbformat_minor": 5
}
